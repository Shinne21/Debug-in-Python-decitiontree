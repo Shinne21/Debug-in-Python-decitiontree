{
 "cells": [
  {
   "cell_type": "markdown",
   "id": "448f3744",
   "metadata": {},
   "source": [
    "# [1] Import modules and functions"
   ]
  },
  {
   "cell_type": "code",
   "execution_count": 1,
   "id": "f1146244",
   "metadata": {},
   "outputs": [],
   "source": [
    "from IPython.core.interactiveshell import InteractiveShell\n",
    "InteractiveShell.ast_node_interactivity = \"all\"\n",
    "import numpy as np\n",
    "import pandas as pd\n",
    "import itertools\n",
    "from sklearn.tree import DecisionTreeRegressor, plot_tree\n",
    "import matplotlib.pyplot as plt\n",
    "import warnings\n",
    "warnings.filterwarnings(\"ignore\")"
   ]
  },
  {
   "cell_type": "markdown",
   "id": "26385f8e",
   "metadata": {},
   "source": [
    "# [2] Functions"
   ]
  },
  {
   "cell_type": "markdown",
   "id": "b188d09f",
   "metadata": {},
   "source": [
    "## perm2array(n)\n",
    "returns an all permutations of the set {0, 1, ..., n - 1} given n\n",
    "\n",
    "For example:\n",
    "\n",
    "perm2array(2)  returns\n",
    "\n",
    "array([[0, 1],\n",
    "       [1, 0]])"
   ]
  },
  {
   "cell_type": "code",
   "execution_count": 13,
   "id": "bd50d498",
   "metadata": {},
   "outputs": [
    {
     "name": "stdout",
     "output_type": "stream",
     "text": [
      "3\n"
     ]
    },
    {
     "data": {
      "text/plain": [
       "array([[0, 1, 2],\n",
       "       [0, 2, 1],\n",
       "       [1, 0, 2],\n",
       "       [1, 2, 0],\n",
       "       [2, 0, 1],\n",
       "       [2, 1, 0]])"
      ]
     },
     "execution_count": 13,
     "metadata": {},
     "output_type": "execute_result"
    }
   ],
   "source": [
    "\n",
    "from itertools import permutations\n",
    "\n",
    "def perm2array(n):\n",
    "    perms = permutations(range(n))\n",
    "    \n",
    "    result = np.array(list(perms))\n",
    "    \n",
    "    return result\n",
    "\n",
    "\n",
    "\n",
    "\n",
    "perm2array(3)\n"
   ]
  },
  {
   "cell_type": "markdown",
   "id": "61b9c048",
   "metadata": {},
   "source": [
    "# [3] Techniques"
   ]
  },
  {
   "cell_type": "markdown",
   "id": "b406910c",
   "metadata": {},
   "source": [
    "Foward Map - Create a dictionary that maps levels to encodings\n",
    "\n",
    "Use dictionary comprehension to create a dictionary whose keys are ['a', 'b'] (e.g. levels of a factor) and \n",
    "\n",
    "whose values are [0, 1] (e.g. a particular encoding of the levels, for example, perm2array(2)[0] ) \n",
    "\n",
    "{'a':0, 'b':1}"
   ]
  },
  {
   "cell_type": "code",
   "execution_count": 6,
   "id": "7b438761",
   "metadata": {},
   "outputs": [
    {
     "name": "stdout",
     "output_type": "stream",
     "text": [
      "[0 1 2]\n",
      "{'A': 0, 'B': 1, 'C': 2}\n"
     ]
    }
   ],
   "source": [
    "levels = ['A', 'B', 'C']\n",
    "f = perm2array(3)[0]\n",
    "print(f)\n",
    "dict = {level: value for level, value in zip(levels, f)}\n",
    "\n",
    "print(dict)"
   ]
  },
  {
   "cell_type": "markdown",
   "id": "003cd959",
   "metadata": {},
   "source": [
    "Inverse Map - Create a dictionary that maps encodings to levels\n",
    "\n",
    "Use dictionary comprehension to create a dictionary whose keys are [0, 1] \n",
    "(e.g. a particular encoding of the levels, for example, perm2array(2)[0] ) \n",
    "and \n",
    "\n",
    "whose values are ['a', 'b'] (e.g. levels of a factor)\n",
    "\n",
    "{0:'a', 1:'b'}"
   ]
  },
  {
   "cell_type": "code",
   "execution_count": 48,
   "id": "13a1b1a2",
   "metadata": {},
   "outputs": [
    {
     "name": "stdout",
     "output_type": "stream",
     "text": [
      "[0 1 2]\n",
      "{0: 'A', 1: 'B', 2: 'C'}\n"
     ]
    }
   ],
   "source": [
    "levels = ['A', 'B', 'C']\n",
    "f = perm2array(3)[0]\n",
    "print(f)\n",
    "dictinverse = {level: value for level, value in zip(f, levels)}\n",
    "\n",
    "print(dictinverse)"
   ]
  },
  {
   "cell_type": "markdown",
   "id": "6240dad3",
   "metadata": {},
   "source": [
    "# [4] Data\n",
    "\n",
    "import treedata.csv into a dataframe df\n",
    "\n",
    "report the levels of the factor X  "
   ]
  },
  {
   "cell_type": "code",
   "execution_count": 3,
   "id": "5ff8cfd4",
   "metadata": {},
   "outputs": [
    {
     "data": {
      "text/html": [
       "<div>\n",
       "<style scoped>\n",
       "    .dataframe tbody tr th:only-of-type {\n",
       "        vertical-align: middle;\n",
       "    }\n",
       "\n",
       "    .dataframe tbody tr th {\n",
       "        vertical-align: top;\n",
       "    }\n",
       "\n",
       "    .dataframe thead th {\n",
       "        text-align: right;\n",
       "    }\n",
       "</style>\n",
       "<table border=\"1\" class=\"dataframe\">\n",
       "  <thead>\n",
       "    <tr style=\"text-align: right;\">\n",
       "      <th></th>\n",
       "      <th>Unnamed: 0</th>\n",
       "      <th>X</th>\n",
       "      <th>Y</th>\n",
       "    </tr>\n",
       "  </thead>\n",
       "  <tbody>\n",
       "    <tr>\n",
       "      <th>0</th>\n",
       "      <td>0</td>\n",
       "      <td>A</td>\n",
       "      <td>9.883319</td>\n",
       "    </tr>\n",
       "    <tr>\n",
       "      <th>1</th>\n",
       "      <td>1</td>\n",
       "      <td>A</td>\n",
       "      <td>9.910869</td>\n",
       "    </tr>\n",
       "    <tr>\n",
       "      <th>2</th>\n",
       "      <td>2</td>\n",
       "      <td>C</td>\n",
       "      <td>11.156120</td>\n",
       "    </tr>\n",
       "    <tr>\n",
       "      <th>3</th>\n",
       "      <td>3</td>\n",
       "      <td>B</td>\n",
       "      <td>11.975236</td>\n",
       "    </tr>\n",
       "    <tr>\n",
       "      <th>4</th>\n",
       "      <td>4</td>\n",
       "      <td>C</td>\n",
       "      <td>11.045973</td>\n",
       "    </tr>\n",
       "  </tbody>\n",
       "</table>\n",
       "</div>"
      ],
      "text/plain": [
       "   Unnamed: 0  X          Y\n",
       "0           0  A   9.883319\n",
       "1           1  A   9.910869\n",
       "2           2  C  11.156120\n",
       "3           3  B  11.975236\n",
       "4           4  C  11.045973"
      ]
     },
     "execution_count": 3,
     "metadata": {},
     "output_type": "execute_result"
    }
   ],
   "source": [
    "df = pd.read_csv('/Users/huwendi/Desktop/DS1/Homework/Mid term/treedata.csv', header = 0)\n",
    "df.head()"
   ]
  },
  {
   "cell_type": "markdown",
   "id": "97684d12",
   "metadata": {},
   "source": [
    "# [5] Mapping and Reverse Mapping dictionaries if used in [6] to [8] for this dataset"
   ]
  },
  {
   "cell_type": "code",
   "execution_count": null,
   "id": "c85d2eca",
   "metadata": {},
   "outputs": [],
   "source": [
    "levels = ['A', 'B', 'C']\n",
    "f = perm2array(3)[0]\n",
    "print(f)\n",
    "dict = {level: value for level, value in zip(levels, f)}\n",
    "\n",
    "print(dict)"
   ]
  },
  {
   "cell_type": "markdown",
   "id": "10558d8d",
   "metadata": {},
   "source": [
    "# [6] Split the Stump\n",
    "encode X according to perm2array(3)[0], which is a particular encoding of the levels of X\n",
    "\n",
    "Use DecisionTreeRegressor() to fit a tree with 2 terminal leaf nodes, which effectively splits the stump on X. \n",
    "\n",
    "Report the encoding scheme and the total ESS of the immedidate children resulting from this split. \n",
    "\n",
    "For example\n",
    "\n",
    "orginal levels  ['A', 'B', 'C'] -> encoded levels  [#, #, #]\n",
    "\n",
    "ESS =  #.#######"
   ]
  },
  {
   "cell_type": "code",
   "execution_count": 14,
   "id": "9d9d2d3b",
   "metadata": {},
   "outputs": [
    {
     "data": {
      "text/plain": [
       "[Text(0.5, 0.75, 'x[0] <= 0.5\\nsquared_error = 0.607\\nsamples = 30\\nvalue = 10.949'),\n",
       " Text(0.25, 0.25, 'squared_error = 0.007\\nsamples = 9\\nvalue = 9.976'),\n",
       " Text(0.75, 0.25, 'squared_error = 0.284\\nsamples = 21\\nvalue = 11.367')]"
      ]
     },
     "execution_count": 14,
     "metadata": {},
     "output_type": "execute_result"
    },
    {
     "data": {
      "image/png": "[encoded data removed]",
      "text/plain": [
       "<Figure size 640x480 with 1 Axes>"
      ]
     },
     "metadata": {},
     "output_type": "display_data"
    },
    {
     "data": {
      "text/plain": [
       "0"
      ]
     },
     "execution_count": 14,
     "metadata": {},
     "output_type": "execute_result"
    },
    {
     "data": {
      "text/plain": [
       "0.5"
      ]
     },
     "execution_count": 14,
     "metadata": {},
     "output_type": "execute_result"
    },
    {
     "data": {
      "text/plain": [
       "30"
      ]
     },
     "execution_count": 14,
     "metadata": {},
     "output_type": "execute_result"
    },
    {
     "data": {
      "text/plain": [
       "1"
      ]
     },
     "execution_count": 14,
     "metadata": {},
     "output_type": "execute_result"
    },
    {
     "data": {
      "text/plain": [
       "2"
      ]
     },
     "execution_count": 14,
     "metadata": {},
     "output_type": "execute_result"
    },
    {
     "name": "stdout",
     "output_type": "stream",
     "text": [
      "Encoding scheme: [0 1 2]\n",
      "6.03366499442038\n"
     ]
    }
   ],
   "source": [
    "particular = perm2array(3)[0]#[0,1,2]\n",
    "dfe=df.copy()\n",
    "f=dfe['X'].map({'A':0, 'B':1, 'C':2})\n",
    "lf=np.array(f)\n",
    "tree = DecisionTreeRegressor(criterion = 'squared_error', max_depth = None, max_leaf_nodes = 2).fit(lf.reshape(-1,1), df.Y)\n",
    "plot_tree(tree)\n",
    "plt.show()\n",
    "tree.tree_.feature[0]      # feature[i] is feature used for splitting node i; NA is -2\n",
    "tree.tree_.threshold[0]    # cut value at node i; NA is -1\n",
    "tree.tree_.n_node_samples[0]  # number of training samples reaching node i, NA is 1\n",
    "tree.tree_.children_left[0] #  id of the left child of node i or -1 if leaf node\n",
    "tree.tree_.children_right[0]\n",
    "\n",
    "\n",
    "l_c = lf < tree.tree_.threshold[0]# left_child position in df\n",
    "r_c = lf >= tree.tree_.threshold[0]\n",
    "ess_l = np.sum((dfe.Y[l_c] - np.mean(dfe.Y[l_c]))**2)\n",
    "ess_r = np.sum((dfe.Y[r_c] - np.mean(dfe.Y[r_c]))**2)\n",
    "TESS=ess_l+ess_r\n",
    "\n",
    "print(f\"Encoding scheme: {particular}\")\n",
    "print(TESS)"
   ]
  },
  {
   "cell_type": "markdown",
   "id": "6aa5258d",
   "metadata": {},
   "source": [
    "# [7] Best encoding of levels \n",
    "\n",
    "loop through each encoding of the levels of X\n",
    "\n",
    "calculate the ESS of the immedidate children resulting from the optimal split of the stump for each encoding scheme\n",
    "\n",
    "use code to identify the BEST encoding scheme, the one associated with the smallest ESS.\n",
    "\n",
    "use code to identify the WORST encoding scheme, the one associated with the largest ESS.\n",
    "\n",
    "for example:\n",
    "\n",
    "best encoding scheme index = #  ESS = #.#######\n",
    "orginal levels  ['A', 'B', 'C'] -> encoded levels  [0, 2, 1]\n",
    "\n",
    "worst encoding scheme index = #  ESS = #.#######\n",
    "orginal levels  ['A', 'B', 'C'] -> encoded levels  [#, #, #]\n"
   ]
  },
  {
   "cell_type": "code",
   "execution_count": 22,
   "id": "bd80944a",
   "metadata": {},
   "outputs": [
    {
     "name": "stdout",
     "output_type": "stream",
     "text": [
      "[6.03366499442038, 5.592030773057395, 5.592030773057395, 5.592030773057395, 5.592030773057395]\n"
     ]
    },
    {
     "data": {
      "text/plain": [
       "array([0, 2, 1])"
      ]
     },
     "execution_count": 22,
     "metadata": {},
     "output_type": "execute_result"
    },
    {
     "name": "stdout",
     "output_type": "stream",
     "text": [
      "5.592030773057395 [0 2 1]\n",
      "6.03366499442038 [0 1 2]\n"
     ]
    }
   ],
   "source": [
    "levels = ['A', 'B', 'C']\n",
    "final=[]\n",
    "lg=[]\n",
    "for i in range(5):\n",
    "    g = perm2array(3)[i]\n",
    "    dict = {level: value for level, value in zip(levels, g)}\n",
    "    dfe=df.copy()\n",
    "    f=dfe['X'].map(dict)\n",
    "    lf=np.array(f)\n",
    "    tree = DecisionTreeRegressor(criterion = 'squared_error', max_depth = None, max_leaf_nodes = 3).fit(lf.reshape(-1,1), df.Y)\n",
    "    l_c = lf < tree.tree_.threshold[0]\n",
    "    r_c = lf >= tree.tree_.threshold[0]\n",
    "    ess_l = np.sum((dfe.Y[l_c] - np.mean(dfe.Y[l_c]))**2)\n",
    "    ess_r = np.sum((dfe.Y[r_c] - np.mean(dfe.Y[r_c]))**2)\n",
    "    TESS=ess_l+ess_r\n",
    "    final.append(TESS)\n",
    "    lg.append(g)\n",
    "\n",
    "print(final)\n",
    "\n",
    "print(min(final),  lg[final.index(min(final))])\n",
    "print(max(final),   lg[final.index(max(final))])"
   ]
  },
  {
   "cell_type": "markdown",
   "id": "50d2877d",
   "metadata": {},
   "source": [
    "# [8] Optimal Split of the Stump\n",
    "based on the best encoding scheme identified above\n",
    "\n",
    "use code to report the optimal split of the stump, in terms of the actual levels (not the encoded levels) of X.\n",
    "\n",
    "For example:\n",
    "\n",
    "Stump: split feature 0 into ['Level Name', 'Level Name'] and ['Level Name']  \n",
    "(for example, ['B', 'C'] and ['A'])"
   ]
  },
  {
   "cell_type": "code",
   "execution_count": 72,
   "id": "490944ea",
   "metadata": {},
   "outputs": [
    {
     "name": "stdout",
     "output_type": "stream",
     "text": [
      "['A', 'C']\n",
      "['B']\n"
     ]
    }
   ],
   "source": [
    "o=lg[final.index(min(final))]#optimal_encoding\n",
    "dict = {level: value for level, value in zip(levels, o)}\n",
    "dictinverse = {level: value for level, value in zip(o, levels)}\n",
    "dfe=df.copy()\n",
    "f=dfe['X'].map(dict)\n",
    "lf=np.array(f)\n",
    "tree = DecisionTreeRegressor(criterion = 'squared_error', max_depth = None, max_leaf_nodes = 3).fit(lf.reshape(-1,1), df.Y)\n",
    "\n",
    "cut=tree.tree_.threshold[0]\n",
    "\n",
    "left = []\n",
    "for v in o:\n",
    "    if v < cut:\n",
    "        left.append(dictinverse[v])\n",
    "print(left)\n",
    "\n",
    "right = []\n",
    "for v in o:\n",
    "    if v > cut:\n",
    "        right.append(dictinverse[v])\n",
    "print(right)\n"
   ]
  },
  {
   "cell_type": "code",
   "execution_count": null,
   "id": "9cead751",
   "metadata": {},
   "outputs": [],
   "source": []
  }
 ],
 "metadata": {
  "kernelspec": {
   "display_name": "env_ds_311",
   "language": "python",
   "name": "env_ds_311"
  },
  "language_info": {
   "codemirror_mode": {
    "name": "ipython",
    "version": 3
   },
   "file_extension": ".py",
   "mimetype": "text/x-python",
   "name": "python",
   "nbconvert_exporter": "python",
   "pygments_lexer": "ipython3",
   "version": "3.9.13"
  }
 },
 "nbformat": 4,
 "nbformat_minor": 5
}
